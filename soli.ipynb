{
 "cells": [
  {
   "cell_type": "code",
   "execution_count": 6,
   "metadata": {},
   "outputs": [],
   "source": [
    "import datetime\n",
    "import random\n",
    "from fractions import Fraction\n",
    "\n",
    "from lazyme import per_chunk\n",
    "\n",
    "import numpy as np\n",
    "\n",
    "from helix import Evolution\n",
    "from helix.mutate import Mutation\n",
    "from helix.fitness import MinimizeFitness, GapsFitness\n",
    "from helix.util import magic_square_params, Window"
   ]
  },
  {
   "cell_type": "code",
   "execution_count": 7,
   "metadata": {},
   "outputs": [],
   "source": [
    "import warnings\n",
    "warnings.filterwarnings('ignore')"
   ]
  },
  {
   "cell_type": "code",
   "execution_count": 8,
   "metadata": {},
   "outputs": [
    {
     "data": {
      "text/plain": [
       "['ㅎ', 'ㅏ', 'ㄴ', 'ㄱ', 'ㅜ', 'ㄹ']"
      ]
     },
     "execution_count": 8,
     "metadata": {},
     "output_type": "execute_result"
    }
   ],
   "source": [
    "from jamo import j2hcj, h2j, j2h\n",
    "\n",
    "decompose = lambda x: j2hcj(h2j(x))\n",
    "\n",
    "def num_char_match(guess, **kwargs):\n",
    "    target = kwargs['target']\n",
    "    assert len(guess) == len(target)\n",
    "    try:\n",
    "        x = guess\n",
    "        ''.join([j2h(*chunk) for chunk in list(per_chunk(x, 3))])\n",
    "        return sum(expected == actual for expected, actual in zip(target, guess))\n",
    "    except:\n",
    "        return -1\n",
    "\n",
    "gene_set = ['ㄷ', 'ㅂ', 'ㅅ', 'ㅋ', 'ㅍ', 'ㅐ', 'ㅓ', 'ㅗ', 'ㅘ', 'ㅛ', 'ㅣ', 'ㅎ', 'ㅏ', 'ㄴ', 'ㄱ', 'ㅜ', 'ㄹ'] \n",
    "target = list(decompose(\"한굴\"))\n",
    "target"
   ]
  },
  {
   "cell_type": "code",
   "execution_count": 9,
   "metadata": {},
   "outputs": [],
   "source": [
    "evo = Evolution(gene_set=gene_set, \n",
    "                fitness_func=num_char_match, \n",
    "                optimal_fitness=len(target),\n",
    "                mutation=Mutation('pick'))"
   ]
  },
  {
   "cell_type": "code",
   "execution_count": 12,
   "metadata": {},
   "outputs": [
    {
     "name": "stdout",
     "output_type": "stream",
     "text": [
      "['ㅂ', 'ㅐ', 'ㅋ', 'ㅋ', 'ㅓ', 'ㅎ']\t0\t0:00:00.005473\n",
      "['ㄷ', 'ㅜ', 'ㅋ', 'ㅋ', 'ㅜ', 'ㅎ']\t1\t0:00:00.007305\n",
      "['ㄹ', 'ㅜ', 'ㅋ', 'ㄱ', 'ㅜ', 'ㅋ']\t2\t0:00:00.009195\n",
      "['ㄹ', 'ㅣ', 'ㄴ', 'ㄱ', 'ㅜ', 'ㅅ']\t3\t0:00:00.012032\n",
      "['ㅎ', 'ㅐ', 'ㄴ', 'ㄱ', 'ㅜ', 'ㅎ']\t4\t0:00:00.017698\n",
      "['ㅎ', 'ㅏ', 'ㄴ', 'ㄱ', 'ㅜ', 'ㅎ']\t5\t0:00:00.018497\n",
      "['ㅎ', 'ㅏ', 'ㄴ', 'ㄱ', 'ㅜ', 'ㄹ']\t6\t0:00:00.021432\n"
     ]
    },
    {
     "name": "stderr",
     "output_type": "stream",
     "text": [
      "Could not parse jamo: U+3131\n",
      "Could not parse jamo: U+3131\n",
      "Could not parse jamo: U+3131\n",
      "Could not parse jamo: U+3131\n",
      "Could not parse jamo: U+0\n",
      "Could not parse jamo: U+0\n",
      "Could not parse jamo: U+0\n",
      "Could not parse jamo: U+0\n",
      "Could not parse jamo: U+0\n",
      "Could not parse jamo: U+0\n",
      "Could not parse jamo: U+0\n",
      "Could not parse jamo: U+0\n",
      "Could not parse jamo: U+0\n",
      "Could not parse jamo: U+0\n",
      "Could not parse jamo: U+0\n",
      "Could not parse jamo: U+0\n",
      "Could not parse jamo: U+0\n",
      "Could not parse jamo: U+0\n",
      "Could not parse jamo: U+0\n",
      "Could not parse jamo: U+0\n",
      "Could not parse jamo: U+0\n",
      "Could not parse jamo: U+0\n",
      "Could not parse jamo: U+0\n",
      "Could not parse jamo: U+0\n",
      "Could not parse jamo: U+0\n",
      "Could not parse jamo: U+0\n",
      "Could not parse jamo: U+0\n",
      "Could not parse jamo: U+0\n",
      "Could not parse jamo: U+0\n",
      "Could not parse jamo: U+0\n",
      "Could not parse jamo: U+0\n",
      "Could not parse jamo: U+0\n",
      "Could not parse jamo: U+0\n",
      "Could not parse jamo: U+0\n",
      "Could not parse jamo: U+0\n",
      "Could not parse jamo: U+0\n",
      "Could not parse jamo: U+0\n",
      "Could not parse jamo: U+0\n",
      "Could not parse jamo: U+0\n",
      "Could not parse jamo: U+0\n",
      "Could not parse jamo: U+0\n",
      "Could not parse jamo: U+0\n",
      "Could not parse jamo: U+0\n",
      "Could not parse jamo: U+0\n",
      "Could not parse jamo: U+0\n",
      "Could not parse jamo: U+0\n",
      "Could not parse jamo: U+0\n",
      "Could not parse jamo: U+0\n",
      "Could not parse jamo: U+0\n",
      "Could not parse jamo: U+0\n",
      "Could not parse jamo: U+0\n",
      "Could not parse jamo: U+0\n",
      "Could not parse jamo: U+0\n",
      "Could not parse jamo: U+0\n",
      "Could not parse jamo: U+0\n",
      "Could not parse jamo: U+0\n",
      "Could not parse jamo: U+3137\n",
      "Could not parse jamo: U+3137\n",
      "Could not parse jamo: U+0\n",
      "Could not parse jamo: U+0\n",
      "Could not parse jamo: U+0\n",
      "Could not parse jamo: U+0\n",
      "Could not parse jamo: U+0\n",
      "Could not parse jamo: U+0\n",
      "Could not parse jamo: U+0\n",
      "Could not parse jamo: U+0\n",
      "Could not parse jamo: U+0\n",
      "Could not parse jamo: U+0\n",
      "Could not parse jamo: U+0\n",
      "Could not parse jamo: U+0\n",
      "Could not parse jamo: U+314d\n",
      "Could not parse jamo: U+0\n",
      "Could not parse jamo: U+0\n",
      "Could not parse jamo: U+0\n",
      "Could not parse jamo: U+314e\n",
      "Could not parse jamo: U+314b\n",
      "Could not parse jamo: U+0\n",
      "Could not parse jamo: U+0\n",
      "Could not parse jamo: U+314e\n",
      "Could not parse jamo: U+0\n",
      "Could not parse jamo: U+0\n",
      "Could not parse jamo: U+0\n",
      "Could not parse jamo: U+314d\n",
      "Could not parse jamo: U+0\n",
      "Could not parse jamo: U+0\n",
      "Could not parse jamo: U+0\n",
      "Could not parse jamo: U+0\n",
      "Could not parse jamo: U+0\n",
      "Could not parse jamo: U+0\n",
      "Could not parse jamo: U+0\n",
      "Could not parse jamo: U+0\n",
      "Could not parse jamo: U+314e\n",
      "Could not parse jamo: U+3139\n",
      "Could not parse jamo: U+0\n",
      "Could not parse jamo: U+3131\n",
      "Could not parse jamo: U+0\n",
      "Could not parse jamo: U+0\n",
      "Could not parse jamo: U+0\n",
      "Could not parse jamo: U+314b\n",
      "Could not parse jamo: U+0\n",
      "Could not parse jamo: U+0\n",
      "Could not parse jamo: U+0\n",
      "Could not parse jamo: U+0\n",
      "Could not parse jamo: U+3142\n",
      "Could not parse jamo: U+0\n",
      "Could not parse jamo: U+3134\n",
      "Could not parse jamo: U+0\n",
      "Could not parse jamo: U+0\n",
      "Could not parse jamo: U+0\n",
      "Could not parse jamo: U+0\n",
      "Could not parse jamo: U+0\n",
      "Could not parse jamo: U+0\n",
      "Could not parse jamo: U+314d\n",
      "Could not parse jamo: U+3142\n",
      "Could not parse jamo: U+3134\n",
      "Could not parse jamo: U+0\n",
      "Could not parse jamo: U+0\n",
      "Could not parse jamo: U+314e\n",
      "Could not parse jamo: U+0\n",
      "Could not parse jamo: U+0\n",
      "Could not parse jamo: U+0\n",
      "Could not parse jamo: U+0\n",
      "Could not parse jamo: U+0\n",
      "Could not parse jamo: U+314e\n",
      "Could not parse jamo: U+3131\n",
      "Could not parse jamo: U+0\n",
      "Could not parse jamo: U+0\n",
      "Could not parse jamo: U+0\n",
      "Could not parse jamo: U+0\n",
      "Could not parse jamo: U+0\n",
      "Could not parse jamo: U+0\n",
      "Could not parse jamo: U+0\n",
      "Could not parse jamo: U+3134\n",
      "Could not parse jamo: U+3142\n",
      "Could not parse jamo: U+0\n",
      "Could not parse jamo: U+314d\n",
      "Could not parse jamo: U+0\n",
      "Could not parse jamo: U+3142\n",
      "Could not parse jamo: U+314b\n",
      "Could not parse jamo: U+0\n",
      "Could not parse jamo: U+0\n",
      "Could not parse jamo: U+3137\n",
      "Could not parse jamo: U+0\n",
      "Could not parse jamo: U+0\n",
      "Could not parse jamo: U+3145\n"
     ]
    }
   ],
   "source": [
    "best = evo.find_fittest(len(target), target=target, max_age=500, random_seed=100)"
   ]
  },
  {
   "cell_type": "code",
   "execution_count": 11,
   "metadata": {},
   "outputs": [
    {
     "data": {
      "text/plain": [
       "['ㅎ', 'ㅏ', 'ㄴ', 'ㄱ', 'ㅜ', 'ㄹ']"
      ]
     },
     "execution_count": 11,
     "metadata": {},
     "output_type": "execute_result"
    }
   ],
   "source": [
    "best.genes"
   ]
  },
  {
   "cell_type": "code",
   "execution_count": null,
   "metadata": {},
   "outputs": [],
   "source": []
  },
  {
   "cell_type": "code",
   "execution_count": 14,
   "metadata": {},
   "outputs": [
    {
     "name": "stdout",
     "output_type": "stream",
     "text": [
      "봪눗\n",
      "샌순\n",
      "순궆\n",
      "간궄\n",
      "한궄\n",
      "한굴\n"
     ]
    }
   ],
   "source": [
    "X = [['ㅂ', 'ㅘ', 'ㅍ', 'ㄴ', 'ㅜ', 'ㅅ'],\n",
    "['ㅅ', 'ㅐ', 'ㄴ', 'ㅅ', 'ㅜ', 'ㄴ'],\n",
    "['ㅅ', 'ㅜ', 'ㄴ', 'ㄱ', 'ㅜ', 'ㅍ'],\n",
    "['ㄱ', 'ㅏ', 'ㄴ', 'ㄱ', 'ㅜ', 'ㅋ'],\n",
    "['ㅎ', 'ㅏ', 'ㄴ', 'ㄱ', 'ㅜ', 'ㅋ'],\n",
    "['ㅎ', 'ㅏ', 'ㄴ', 'ㄱ', 'ㅜ', 'ㄹ']]\n",
    "\n",
    "for x in X:\n",
    "    print(''.join([j2h(*chunk) for chunk in list(per_chunk(x, 3))]))"
   ]
  },
  {
   "cell_type": "code",
   "execution_count": null,
   "metadata": {},
   "outputs": [],
   "source": []
  },
  {
   "cell_type": "code",
   "execution_count": null,
   "metadata": {},
   "outputs": [],
   "source": []
  }
 ],
 "metadata": {
  "kernelspec": {
   "display_name": "Python 3",
   "language": "python",
   "name": "python3"
  },
  "language_info": {
   "codemirror_mode": {
    "name": "ipython",
    "version": 3
   },
   "file_extension": ".py",
   "mimetype": "text/x-python",
   "name": "python",
   "nbconvert_exporter": "python",
   "pygments_lexer": "ipython3",
   "version": "3.6.4rc1"
  }
 },
 "nbformat": 4,
 "nbformat_minor": 2
}
