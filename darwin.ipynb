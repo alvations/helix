{
 "cells": [
  {
   "cell_type": "code",
   "execution_count": 1,
   "metadata": {},
   "outputs": [],
   "source": [
    "import datetime\n",
    "import random\n",
    "\n",
    "import numpy as np\n",
    "\n",
    "from helix import Evolution, Mutation\n",
    "from helix.fitness import MinimizeFitness, GapsFitness"
   ]
  },
  {
   "cell_type": "markdown",
   "metadata": {},
   "source": [
    "Guess the Password\n",
    "===="
   ]
  },
  {
   "cell_type": "code",
   "execution_count": 2,
   "metadata": {},
   "outputs": [],
   "source": [
    "def num_char_match(guess, **kwargs):\n",
    "    target = kwargs['target']\n",
    "    assert len(guess) == len(target)\n",
    "    return sum(expected == actual for expected, actual in zip(target, guess))\n",
    "\n",
    "alphabet = \"abcdefghijklmnopqrstuvwxyzABCDEFGHIJKLMNOPQRSTUVWXYZ!., \"\n",
    "password = 'hello world'"
   ]
  },
  {
   "cell_type": "code",
   "execution_count": 3,
   "metadata": {},
   "outputs": [],
   "source": [
    "evo = Evolution(gene_set=alphabet, \n",
    "                fitness_func=num_char_match, \n",
    "                optimal_fitness=len(password),\n",
    "                mutation=Mutation('pick'))"
   ]
  },
  {
   "cell_type": "code",
   "execution_count": 4,
   "metadata": {},
   "outputs": [
    {
     "name": "stdout",
     "output_type": "stream",
     "text": [
      "[',', 'S', 'j', 'p', 'l', 'K', 'T', 'f', 'r', 'Z', 'q']\t1\t0:00:00.000528\n",
      "['h', 'S', ',', 'c', 'h', 'f', 'L', 'F', 'r', 'R', 'S']\t2\t0:00:00.000908\n",
      "['h', 'e', 'k', 'B', 'x', 'o', 'm', 'F', 'r', 'X', 'f']\t3\t0:00:00.002605\n",
      "['h', 'e', 'l', 'Q', 'x', 'e', 'b', 'B', 'r', 'K', 'X']\t4\t0:00:00.004253\n",
      "['h', 'e', 'l', 'l', 'C', 'A', 'a', 'T', 'r', 's', 'B']\t5\t0:00:00.007962\n",
      "['h', 'e', 'l', 'l', 't', ' ', 'q', 'u', 'r', 'f', 'R']\t6\t0:00:00.009108\n",
      "['h', 'e', 'l', 'l', 'R', ' ', 'w', 'K', 'r', 'w', 'b']\t7\t0:00:00.010394\n",
      "['h', 'e', 'l', 'l', ' ', ' ', 'w', 'o', 'r', 'o', 'a']\t8\t0:00:00.014619\n",
      "['h', 'e', 'l', 'l', 'o', ' ', 'w', 'o', 'r', 'P', 'T']\t9\t0:00:00.026255\n",
      "['h', 'e', 'l', 'l', 'o', ' ', 'w', 'o', 'r', 'l', 'Z']\t10\t0:00:00.028786\n",
      "['h', 'e', 'l', 'l', 'o', ' ', 'w', 'o', 'r', 'l', 'd']\t11\t0:00:00.032963\n"
     ]
    },
    {
     "data": {
      "text/plain": [
       "<helix.Chromosome at 0x107d573f0>"
      ]
     },
     "execution_count": 4,
     "metadata": {},
     "output_type": "execute_result"
    }
   ],
   "source": [
    "evo.find_fittest(len(password), random_seed=0, target=password)"
   ]
  },
  {
   "cell_type": "markdown",
   "metadata": {},
   "source": [
    "One Max Problem\n",
    "===="
   ]
  },
  {
   "cell_type": "code",
   "execution_count": 5,
   "metadata": {},
   "outputs": [],
   "source": [
    "def num_of_ones(guess, target=None):\n",
    "    return guess.count(1)\n",
    "\n",
    "binaries = [0,1]\n",
    "target = [1] * 100"
   ]
  },
  {
   "cell_type": "code",
   "execution_count": 10,
   "metadata": {},
   "outputs": [],
   "source": [
    "evo = Evolution(gene_set=binaries, \n",
    "                fitness_func=num_of_ones, \n",
    "                optimal_fitness=len(target),\n",
    "                mutation=Mutation('pick'))"
   ]
  },
  {
   "cell_type": "code",
   "execution_count": 11,
   "metadata": {},
   "outputs": [
    {
     "name": "stdout",
     "output_type": "stream",
     "text": [
      "[0, 1, 0, 1, 0, 1, 1, 0, 1, 1]\t6\t0:00:00.000041\n",
      "[1, 1, 0, 1, 0, 1, 1, 0, 1, 1]\t7\t0:00:00.000271\n",
      "[1, 1, 0, 1, 0, 1, 1, 1, 1, 1]\t8\t0:00:00.000327\n",
      "[1, 1, 1, 1, 0, 1, 1, 1, 1, 1]\t9\t0:00:00.000397\n",
      "[1, 1, 1, 1, 1, 1, 1, 1, 1, 1]\t10\t0:00:00.000498\n"
     ]
    },
    {
     "data": {
      "text/plain": [
       "<helix.Chromosome at 0x107deb2d0>"
      ]
     },
     "execution_count": 11,
     "metadata": {},
     "output_type": "execute_result"
    }
   ],
   "source": [
    "evo.find_fittest(len(target), random_seed=2)"
   ]
  },
  {
   "cell_type": "markdown",
   "metadata": {},
   "source": [
    "Sorted Numbers\n",
    "===="
   ]
  },
  {
   "cell_type": "code",
   "execution_count": 12,
   "metadata": {},
   "outputs": [],
   "source": [
    "def sortedness(genes, target=None):\n",
    "    fitness = 1\n",
    "    gaps = 0\n",
    "    for i in range(1, len(genes)):\n",
    "        if genes[i] > genes[i-1]:\n",
    "            fitness += 1\n",
    "        else:\n",
    "            gaps += genes[i-1] - genes[i]\n",
    "    return GapsFitness(fitness, gaps)\n",
    "\n",
    "numbers = random.sample(list(range(100)), 10)\n",
    "target = sorted(numbers)"
   ]
  },
  {
   "cell_type": "code",
   "execution_count": 13,
   "metadata": {},
   "outputs": [],
   "source": [
    "evo = Evolution(gene_set=numbers, \n",
    "                fitness_func=sortedness, \n",
    "                optimal_fitness=GapsFitness(len(target), 0),\n",
    "                mutation=Mutation('pick'))"
   ]
  },
  {
   "cell_type": "code",
   "execution_count": 14,
   "metadata": {},
   "outputs": [
    {
     "name": "stdout",
     "output_type": "stream",
     "text": [
      "[71, 41, 72, 59, 72, 44, 92, 58, 28, 44]\t5\t135\t0:00:00.000074\n",
      "[71, 72, 72, 59, 72, 44, 92, 58, 28, 44]\t5\t105\t0:00:00.000234\n",
      "[71, 72, 72, 59, 72, 44, 92, 58, 41, 44]\t5\t92\t0:00:00.000356\n",
      "[71, 72, 72, 59, 72, 62, 92, 58, 41, 44]\t5\t74\t0:00:00.000426\n",
      "[71, 72, 72, 59, 72, 62, 84, 58, 41, 44]\t5\t66\t0:00:00.000545\n",
      "[71, 72, 72, 59, 58, 62, 84, 41, 41, 44]\t5\t57\t0:00:00.000679\n",
      "[71, 72, 72, 59, 59, 62, 84, 58, 41, 44]\t5\t56\t0:00:00.000784\n",
      "[71, 72, 84, 59, 59, 62, 84, 58, 41, 44]\t6\t68\t0:00:00.000861\n",
      "[71, 72, 84, 44, 59, 62, 84, 41, 41, 44]\t7\t83\t0:00:00.000968\n",
      "[71, 72, 84, 44, 59, 62, 84, 92, 41, 72]\t8\t91\t0:00:00.001034\n",
      "[28, 44, 28, 44, 58, 59, 84, 92, 41, 58]\t8\t67\t0:00:00.001383\n",
      "[28, 44, 44, 58, 59, 62, 71, 92, 41, 62]\t8\t51\t0:00:00.003133\n",
      "[28, 41, 44, 58, 59, 62, 84, 92, 41, 58]\t9\t51\t0:00:00.004591\n",
      "[28, 41, 44, 58, 59, 62, 84, 92, 44, 58]\t9\t48\t0:00:00.004687\n",
      "[28, 41, 44, 59, 62, 72, 84, 92, 58, 84]\t9\t34\t0:00:00.006313\n",
      "[28, 41, 44, 59, 62, 72, 84, 92, 62, 84]\t9\t30\t0:00:00.006750\n",
      "[28, 41, 58, 59, 62, 72, 84, 59, 62, 71]\t9\t25\t0:00:00.007388\n",
      "[28, 41, 44, 58, 71, 72, 58, 59, 62, 71]\t9\t14\t0:00:00.009450\n",
      "[28, 44, 58, 59, 62, 71, 58, 59, 62, 71]\t9\t13\t0:00:00.020324\n",
      "[28, 41, 44, 58, 62, 71, 72, 71, 72, 84]\t9\t1\t0:00:00.029495\n",
      "[28, 41, 44, 58, 62, 71, 72, 84, 84, 92]\t9\t0\t0:00:00.030314\n",
      "[28, 41, 44, 58, 59, 62, 71, 72, 84, 92]\t10\t0\t0:00:00.054863\n",
      "\n",
      "Target: [28, 41, 44, 58, 59, 62, 71, 72, 84, 92]\n"
     ]
    }
   ],
   "source": [
    "evo.find_fittest(len(target))\n",
    "print('\\nTarget:', target)"
   ]
  },
  {
   "cell_type": "code",
   "execution_count": 15,
   "metadata": {},
   "outputs": [
    {
     "name": "stdout",
     "output_type": "stream",
     "text": [
      "0:00:00.000151\n"
     ]
    }
   ],
   "source": [
    "# Tim sort takes...\n",
    "start_time = datetime.datetime.now(); sorted(target); print(datetime.datetime.now() - start_time)"
   ]
  },
  {
   "cell_type": "markdown",
   "metadata": {},
   "source": [
    "Magic Squares\n",
    "===="
   ]
  },
  {
   "cell_type": "code",
   "execution_count": 16,
   "metadata": {},
   "outputs": [],
   "source": [
    "def direction_sums(gene_set, diagonal_size):\n",
    "    _matrix = np.array(gene_set).reshape(diagonal_size, diagonal_size)\n",
    "    # Sums of each direction.\n",
    "    rows = _matrix.sum(axis=1).tolist()\n",
    "    columns = _matrix.sum(axis=0).tolist()\n",
    "    sum_northeast_diagonal = sum(_matrix.diagonal())\n",
    "    sum_southeast_diagonal = sum(np.flip(_matrix, axis=1).diagonal())\n",
    "    # Combine the sums.\n",
    "    return _matrix, rows, columns, sum_northeast_diagonal, sum_southeast_diagonal\n",
    "    \n",
    "def sum_of_differences(genes, diagonal_size, expected_sum):\n",
    "    _, rows, columns, northeast_diag, southeast_diag = direction_sums(genes, diagonal_size)\n",
    "    sums = rows + columns + [northeast_diag, southeast_diag]\n",
    "    return MinimizeFitness(sum(int(abs(s - expected_sum)) for s in sums if s != expected_sum))\n",
    "\n",
    "\n",
    "def print_magic_box(flatten_matrix, diagonal_size):\n",
    "    # Sums of each direction.\n",
    "    _matrix, rows, columns, northeast_diag, southeast_diag = direction_sums(flatten_matrix, diagonal_size)\n",
    "    for row in _matrix:\n",
    "        print('\\t'.join(map(str, [' '] + row.tolist() + ['= ' + str(sum(row))])))\n",
    "    print('\\t'.join(['='+str(s) for s in [northeast_diag] + columns + [southeast_diag]]))\n",
    "    \n",
    "numbers = list(range(1, 10))\n",
    "diagonal_size = 3\n",
    "optimal_fitness = 2 + 2 * diagonal_size\n",
    "expected_sum = diagonal_size * (diagonal_size**2 + 1) / 2"
   ]
  },
  {
   "cell_type": "code",
   "execution_count": 18,
   "metadata": {},
   "outputs": [],
   "source": [
    "evo = Evolution(numbers, sum_of_differences, MinimizeFitness(0), mutation=Mutation('swap'))"
   ]
  },
  {
   "cell_type": "code",
   "execution_count": 19,
   "metadata": {},
   "outputs": [
    {
     "name": "stdout",
     "output_type": "stream",
     "text": [
      "[7, 9, 5, 4, 1, 3, 2, 6, 8]\t26\t0:00:00.000184\n",
      "[7, 1, 5, 4, 9, 3, 2, 6, 8]\t18\t0:00:00.000458\n",
      "[7, 1, 8, 4, 9, 2, 3, 6, 5]\t15\t0:00:00.000750\n",
      "[7, 1, 8, 4, 6, 2, 3, 9, 5]\t13\t0:00:00.000944\n",
      "[7, 1, 8, 5, 6, 2, 3, 9, 4]\t10\t0:00:00.001264\n",
      "[7, 1, 8, 5, 6, 3, 2, 9, 4]\t7\t0:00:00.002556\n",
      "[7, 1, 8, 6, 5, 3, 2, 9, 4]\t3\t0:00:00.002953\n",
      "[6, 1, 8, 7, 5, 3, 2, 9, 4]\t0\t0:00:00.004727\n"
     ]
    }
   ],
   "source": [
    "best = evo.find_fittest(diagonal_size*diagonal_size, \n",
    "                        diagonal_size=diagonal_size, \n",
    "                        expected_sum=expected_sum)\n"
   ]
  },
  {
   "cell_type": "code",
   "execution_count": 20,
   "metadata": {},
   "outputs": [
    {
     "name": "stdout",
     "output_type": "stream",
     "text": [
      " \t6\t1\t8\t= 15\n",
      " \t7\t5\t3\t= 15\n",
      " \t2\t9\t4\t= 15\n",
      "=15\t=15\t=15\t=15\t=15\n"
     ]
    }
   ],
   "source": [
    "print_magic_box(best.genes, diagonal_size)"
   ]
  },
  {
   "cell_type": "code",
   "execution_count": 21,
   "metadata": {},
   "outputs": [
    {
     "ename": "AttributeError",
     "evalue": "'str' object has no attribute 'mutate'",
     "output_type": "error",
     "traceback": [
      "\u001b[0;31m---------------------------------------------------------------------------\u001b[0m",
      "\u001b[0;31mAttributeError\u001b[0m                            Traceback (most recent call last)",
      "\u001b[0;32m<ipython-input-21-4aa3c6d1784b>\u001b[0m in \u001b[0;36m<module>\u001b[0;34m()\u001b[0m\n\u001b[1;32m      9\u001b[0m                         \u001b[0mdiagonal_size\u001b[0m\u001b[0;34m=\u001b[0m\u001b[0mdiagonal_size\u001b[0m\u001b[0;34m,\u001b[0m\u001b[0;34m\u001b[0m\u001b[0m\n\u001b[1;32m     10\u001b[0m                         \u001b[0mexpected_sum\u001b[0m\u001b[0;34m=\u001b[0m\u001b[0mexpected_sum\u001b[0m\u001b[0;34m,\u001b[0m\u001b[0;34m\u001b[0m\u001b[0m\n\u001b[0;32m---> 11\u001b[0;31m                         random_seed=10, max_age=100)\n\u001b[0m",
      "\u001b[0;32m~/git-stuff/helix/helix/__init__.py\u001b[0m in \u001b[0;36mfind_fittest\u001b[0;34m(self, num_genes, random_seed, max_age, *args, **kwargs)\u001b[0m\n\u001b[1;32m    122\u001b[0m \u001b[0;34m\u001b[0m\u001b[0m\n\u001b[1;32m    123\u001b[0m         \u001b[0mstart_time\u001b[0m \u001b[0;34m=\u001b[0m \u001b[0mdatetime\u001b[0m\u001b[0;34m.\u001b[0m\u001b[0mdatetime\u001b[0m\u001b[0;34m.\u001b[0m\u001b[0mnow\u001b[0m\u001b[0;34m(\u001b[0m\u001b[0;34m)\u001b[0m\u001b[0;34m\u001b[0m\u001b[0m\n\u001b[0;32m--> 124\u001b[0;31m         \u001b[0;32mfor\u001b[0m \u001b[0mchild\u001b[0m \u001b[0;32min\u001b[0m \u001b[0mself\u001b[0m\u001b[0;34m.\u001b[0m\u001b[0mevolve\u001b[0m\u001b[0;34m(\u001b[0m\u001b[0mgen0\u001b[0m\u001b[0;34m,\u001b[0m \u001b[0mmax_age\u001b[0m\u001b[0;34m,\u001b[0m \u001b[0;34m*\u001b[0m\u001b[0margs\u001b[0m\u001b[0;34m,\u001b[0m \u001b[0;34m**\u001b[0m\u001b[0mkwargs\u001b[0m\u001b[0;34m)\u001b[0m\u001b[0;34m:\u001b[0m\u001b[0;34m\u001b[0m\u001b[0m\n\u001b[0m\u001b[1;32m    125\u001b[0m             \u001b[0;31m# Log time taken to reach better fitness.\u001b[0m\u001b[0;34m\u001b[0m\u001b[0;34m\u001b[0m\u001b[0m\n\u001b[1;32m    126\u001b[0m             \u001b[0mtime_taken\u001b[0m \u001b[0;34m=\u001b[0m \u001b[0mdatetime\u001b[0m\u001b[0;34m.\u001b[0m\u001b[0mdatetime\u001b[0m\u001b[0;34m.\u001b[0m\u001b[0mnow\u001b[0m\u001b[0;34m(\u001b[0m\u001b[0;34m)\u001b[0m \u001b[0;34m-\u001b[0m \u001b[0mstart_time\u001b[0m\u001b[0;34m\u001b[0m\u001b[0m\n",
      "\u001b[0;32m~/git-stuff/helix/helix/__init__.py\u001b[0m in \u001b[0;36mevolve\u001b[0;34m(self, parent, max_age, *args, **kwargs)\u001b[0m\n\u001b[1;32m     77\u001b[0m         \u001b[0mbest_parent\u001b[0m \u001b[0;34m=\u001b[0m \u001b[0mparent\u001b[0m\u001b[0;34m\u001b[0m\u001b[0m\n\u001b[1;32m     78\u001b[0m         \u001b[0;32mwhile\u001b[0m \u001b[0;32mTrue\u001b[0m\u001b[0;34m:\u001b[0m\u001b[0;34m\u001b[0m\u001b[0m\n\u001b[0;32m---> 79\u001b[0;31m             child = self.mutation.mutate(parent, self.gene_set, self.fitness_func,\n\u001b[0m\u001b[1;32m     80\u001b[0m                                          *args, **kwargs)\n\u001b[1;32m     81\u001b[0m \u001b[0;34m\u001b[0m\u001b[0m\n",
      "\u001b[0;31mAttributeError\u001b[0m: 'str' object has no attribute 'mutate'"
     ]
    }
   ],
   "source": [
    "diagonal_size = 5\n",
    "numbers = list(range(1, diagonal_size**2+ 1))\n",
    "\n",
    "optimal_fitness = 2 + 2 * diagonal_size\n",
    "expected_sum = diagonal_size * (diagonal_size**2 + 1) / 2\n",
    "\n",
    "evo = Evolution(numbers, sum_of_differences, MinimizeFitness(0), 'swap')\n",
    "best = evo.find_fittest(diagonal_size*diagonal_size, \n",
    "                        diagonal_size=diagonal_size, \n",
    "                        expected_sum=expected_sum, \n",
    "                        mutation=Mutation('pick'),\n",
    "                        random_seed=10, max_age=100)"
   ]
  },
  {
   "cell_type": "code",
   "execution_count": 19,
   "metadata": {},
   "outputs": [
    {
     "name": "stdout",
     "output_type": "stream",
     "text": [
      " \t2\t8\t23\t20\t12\t= 65\n",
      " \t1\t19\t17\t7\t21\t= 65\n",
      " \t25\t11\t6\t10\t13\t= 65\n",
      " \t15\t18\t3\t24\t5\t= 65\n",
      " \t22\t9\t16\t4\t14\t= 65\n",
      "=65\t=65\t=65\t=65\t=65\t=65\t=65\n"
     ]
    }
   ],
   "source": [
    "print_magic_box(best.genes, diagonal_size)"
   ]
  },
  {
   "cell_type": "markdown",
   "metadata": {},
   "source": [
    "Linear Equations\n",
    "===="
   ]
  },
  {
   "cell_type": "code",
   "execution_count": null,
   "metadata": {},
   "outputs": [],
   "source": []
  },
  {
   "cell_type": "code",
   "execution_count": null,
   "metadata": {},
   "outputs": [],
   "source": []
  },
  {
   "cell_type": "code",
   "execution_count": null,
   "metadata": {},
   "outputs": [],
   "source": []
  },
  {
   "cell_type": "code",
   "execution_count": null,
   "metadata": {},
   "outputs": [],
   "source": []
  },
  {
   "cell_type": "code",
   "execution_count": null,
   "metadata": {},
   "outputs": [],
   "source": []
  },
  {
   "cell_type": "code",
   "execution_count": 12,
   "metadata": {},
   "outputs": [],
   "source": [
    "def sum_of_equations(genes):\n",
    "    x, y = genes\n",
    "    e1 = x + 2*y -4\n",
    "    e2 = 4*x + 4*y -12 \n",
    "    return MinimizeFitness(abs(e1) + abs(e2))"
   ]
  },
  {
   "cell_type": "code",
   "execution_count": 13,
   "metadata": {},
   "outputs": [],
   "source": [
    "range_of_x_and_y = list(range(-5, 5))\n",
    "range_of_x_and_y.remove(0)\n",
    "\n",
    "evo = Evolution(gene_set=range_of_x_and_y, \n",
    "                fitness_func=sum_of_equations, \n",
    "                optimal_fitness=MinimizeFitness(0))"
   ]
  },
  {
   "cell_type": "code",
   "execution_count": 15,
   "metadata": {},
   "outputs": [
    {
     "name": "stdout",
     "output_type": "stream",
     "text": [
      "[-1, 4]\t3\t0:00:00.000027\n",
      "[-1, 4]\t3\t0:00:00.000210\n"
     ]
    },
    {
     "ename": "KeyboardInterrupt",
     "evalue": "",
     "output_type": "error",
     "traceback": [
      "\u001b[0;31m---------------------------------------------------------------------------\u001b[0m",
      "\u001b[0;31mKeyboardInterrupt\u001b[0m                         Traceback (most recent call last)",
      "\u001b[0;32m<ipython-input-15-592658ba053b>\u001b[0m in \u001b[0;36m<module>\u001b[0;34m()\u001b[0m\n\u001b[0;32m----> 1\u001b[0;31m \u001b[0mevo\u001b[0m\u001b[0;34m.\u001b[0m\u001b[0mfind_fittest\u001b[0m\u001b[0;34m(\u001b[0m\u001b[0;36m2\u001b[0m\u001b[0;34m,\u001b[0m \u001b[0mmax_age\u001b[0m\u001b[0;34m=\u001b[0m\u001b[0;36m50\u001b[0m\u001b[0;34m)\u001b[0m\u001b[0;34m\u001b[0m\u001b[0m\n\u001b[0m",
      "\u001b[0;32m~/git-stuff/helix/helix/__init__.py\u001b[0m in \u001b[0;36mfind_fittest\u001b[0;34m(self, num_genes, random_seed, max_age, *args, **kwargs)\u001b[0m\n\u001b[1;32m    125\u001b[0m \u001b[0;34m\u001b[0m\u001b[0m\n\u001b[1;32m    126\u001b[0m         \u001b[0mstart_time\u001b[0m \u001b[0;34m=\u001b[0m \u001b[0mdatetime\u001b[0m\u001b[0;34m.\u001b[0m\u001b[0mdatetime\u001b[0m\u001b[0;34m.\u001b[0m\u001b[0mnow\u001b[0m\u001b[0;34m(\u001b[0m\u001b[0;34m)\u001b[0m\u001b[0;34m\u001b[0m\u001b[0m\n\u001b[0;32m--> 127\u001b[0;31m         \u001b[0;32mfor\u001b[0m \u001b[0mchild\u001b[0m \u001b[0;32min\u001b[0m \u001b[0mself\u001b[0m\u001b[0;34m.\u001b[0m\u001b[0mevolve\u001b[0m\u001b[0;34m(\u001b[0m\u001b[0mgen0\u001b[0m\u001b[0;34m,\u001b[0m \u001b[0;34m*\u001b[0m\u001b[0margs\u001b[0m\u001b[0;34m,\u001b[0m \u001b[0;34m**\u001b[0m\u001b[0mkwargs\u001b[0m\u001b[0;34m)\u001b[0m\u001b[0;34m:\u001b[0m\u001b[0;34m\u001b[0m\u001b[0m\n\u001b[0m\u001b[1;32m    128\u001b[0m             \u001b[0;31m# Log time taken to reach better fitness.\u001b[0m\u001b[0;34m\u001b[0m\u001b[0;34m\u001b[0m\u001b[0m\n\u001b[1;32m    129\u001b[0m             \u001b[0mtime_taken\u001b[0m \u001b[0;34m=\u001b[0m \u001b[0mdatetime\u001b[0m\u001b[0;34m.\u001b[0m\u001b[0mdatetime\u001b[0m\u001b[0;34m.\u001b[0m\u001b[0mnow\u001b[0m\u001b[0;34m(\u001b[0m\u001b[0;34m)\u001b[0m \u001b[0;34m-\u001b[0m \u001b[0mstart_time\u001b[0m\u001b[0;34m\u001b[0m\u001b[0m\n",
      "\u001b[0;32m~/git-stuff/helix/helix/__init__.py\u001b[0m in \u001b[0;36mevolve\u001b[0;34m(self, parent, max_age, *args, **kwargs)\u001b[0m\n\u001b[1;32m     90\u001b[0m         \u001b[0mbest_parent\u001b[0m \u001b[0;34m=\u001b[0m \u001b[0mparent\u001b[0m\u001b[0;34m\u001b[0m\u001b[0m\n\u001b[1;32m     91\u001b[0m         \u001b[0;32mwhile\u001b[0m \u001b[0;32mTrue\u001b[0m\u001b[0;34m:\u001b[0m\u001b[0;34m\u001b[0m\u001b[0m\n\u001b[0;32m---> 92\u001b[0;31m             \u001b[0mchild\u001b[0m \u001b[0;34m=\u001b[0m \u001b[0mself\u001b[0m\u001b[0;34m.\u001b[0m\u001b[0mmutate\u001b[0m\u001b[0;34m(\u001b[0m\u001b[0mparent\u001b[0m\u001b[0;34m,\u001b[0m \u001b[0;34m*\u001b[0m\u001b[0margs\u001b[0m\u001b[0;34m,\u001b[0m \u001b[0;34m**\u001b[0m\u001b[0mkwargs\u001b[0m\u001b[0;34m)\u001b[0m\u001b[0;34m\u001b[0m\u001b[0m\n\u001b[0m\u001b[1;32m     93\u001b[0m             \u001b[0;31m##print(\"{}\\t{}\".format(child.genes, child.fitness))\u001b[0m\u001b[0;34m\u001b[0m\u001b[0;34m\u001b[0m\u001b[0m\n\u001b[1;32m     94\u001b[0m             \u001b[0;32mif\u001b[0m \u001b[0mparent\u001b[0m\u001b[0;34m.\u001b[0m\u001b[0mfitness\u001b[0m \u001b[0;34m>\u001b[0m \u001b[0mchild\u001b[0m\u001b[0;34m.\u001b[0m\u001b[0mfitness\u001b[0m\u001b[0;34m:\u001b[0m\u001b[0;34m\u001b[0m\u001b[0m\n",
      "\u001b[0;32m~/git-stuff/helix/helix/__init__.py\u001b[0m in \u001b[0;36mmutate\u001b[0;34m(self, parent, *args, **kwargs)\u001b[0m\n\u001b[1;32m     74\u001b[0m         \u001b[0;34m:\u001b[0m\u001b[0mrtype\u001b[0m\u001b[0;34m:\u001b[0m \u001b[0mChromosome\u001b[0m\u001b[0;34m\u001b[0m\u001b[0m\n\u001b[1;32m     75\u001b[0m         \"\"\"\n\u001b[0;32m---> 76\u001b[0;31m         \u001b[0mindex\u001b[0m \u001b[0;34m=\u001b[0m \u001b[0mrandom\u001b[0m\u001b[0;34m.\u001b[0m\u001b[0mrandrange\u001b[0m\u001b[0;34m(\u001b[0m\u001b[0;36m0\u001b[0m\u001b[0;34m,\u001b[0m \u001b[0mlen\u001b[0m\u001b[0;34m(\u001b[0m\u001b[0mparent\u001b[0m\u001b[0;34m.\u001b[0m\u001b[0mgenes\u001b[0m\u001b[0;34m)\u001b[0m\u001b[0;34m)\u001b[0m\u001b[0;34m\u001b[0m\u001b[0m\n\u001b[0m\u001b[1;32m     77\u001b[0m         \u001b[0mchild_genes\u001b[0m \u001b[0;34m=\u001b[0m \u001b[0mlist\u001b[0m\u001b[0;34m(\u001b[0m\u001b[0mparent\u001b[0m\u001b[0;34m.\u001b[0m\u001b[0mgenes\u001b[0m\u001b[0;34m)\u001b[0m\u001b[0;34m\u001b[0m\u001b[0m\n\u001b[1;32m     78\u001b[0m         \u001b[0mnew_gene\u001b[0m\u001b[0;34m,\u001b[0m \u001b[0malternate\u001b[0m \u001b[0;34m=\u001b[0m \u001b[0mrandom\u001b[0m\u001b[0;34m.\u001b[0m\u001b[0msample\u001b[0m\u001b[0;34m(\u001b[0m\u001b[0mself\u001b[0m\u001b[0;34m.\u001b[0m\u001b[0mgene_set\u001b[0m\u001b[0;34m,\u001b[0m \u001b[0;36m2\u001b[0m\u001b[0;34m)\u001b[0m\u001b[0;34m\u001b[0m\u001b[0m\n",
      "\u001b[0;32m/Library/Frameworks/Python.framework/Versions/3.6/lib/python3.6/random.py\u001b[0m in \u001b[0;36mrandrange\u001b[0;34m(self, start, stop, step, _int)\u001b[0m\n\u001b[1;32m    195\u001b[0m         \u001b[0mwidth\u001b[0m \u001b[0;34m=\u001b[0m \u001b[0mistop\u001b[0m \u001b[0;34m-\u001b[0m \u001b[0mistart\u001b[0m\u001b[0;34m\u001b[0m\u001b[0m\n\u001b[1;32m    196\u001b[0m         \u001b[0;32mif\u001b[0m \u001b[0mstep\u001b[0m \u001b[0;34m==\u001b[0m \u001b[0;36m1\u001b[0m \u001b[0;32mand\u001b[0m \u001b[0mwidth\u001b[0m \u001b[0;34m>\u001b[0m \u001b[0;36m0\u001b[0m\u001b[0;34m:\u001b[0m\u001b[0;34m\u001b[0m\u001b[0m\n\u001b[0;32m--> 197\u001b[0;31m             \u001b[0;32mreturn\u001b[0m \u001b[0mistart\u001b[0m \u001b[0;34m+\u001b[0m \u001b[0mself\u001b[0m\u001b[0;34m.\u001b[0m\u001b[0m_randbelow\u001b[0m\u001b[0;34m(\u001b[0m\u001b[0mwidth\u001b[0m\u001b[0;34m)\u001b[0m\u001b[0;34m\u001b[0m\u001b[0m\n\u001b[0m\u001b[1;32m    198\u001b[0m         \u001b[0;32mif\u001b[0m \u001b[0mstep\u001b[0m \u001b[0;34m==\u001b[0m \u001b[0;36m1\u001b[0m\u001b[0;34m:\u001b[0m\u001b[0;34m\u001b[0m\u001b[0m\n\u001b[1;32m    199\u001b[0m             \u001b[0;32mraise\u001b[0m \u001b[0mValueError\u001b[0m\u001b[0;34m(\u001b[0m\u001b[0;34m\"empty range for randrange() (%d,%d, %d)\"\u001b[0m \u001b[0;34m%\u001b[0m \u001b[0;34m(\u001b[0m\u001b[0mistart\u001b[0m\u001b[0;34m,\u001b[0m \u001b[0mistop\u001b[0m\u001b[0;34m,\u001b[0m \u001b[0mwidth\u001b[0m\u001b[0;34m)\u001b[0m\u001b[0;34m)\u001b[0m\u001b[0;34m\u001b[0m\u001b[0m\n",
      "\u001b[0;31mKeyboardInterrupt\u001b[0m: "
     ]
    }
   ],
   "source": [
    "evo.find_fittest(2, max_age=50)"
   ]
  },
  {
   "cell_type": "code",
   "execution_count": null,
   "metadata": {},
   "outputs": [],
   "source": []
  }
 ],
 "metadata": {
  "kernelspec": {
   "display_name": "Python 3",
   "language": "python",
   "name": "python3"
  },
  "language_info": {
   "codemirror_mode": {
    "name": "ipython",
    "version": 3
   },
   "file_extension": ".py",
   "mimetype": "text/x-python",
   "name": "python",
   "nbconvert_exporter": "python",
   "pygments_lexer": "ipython3",
   "version": "3.6.4rc1"
  }
 },
 "nbformat": 4,
 "nbformat_minor": 2
}
